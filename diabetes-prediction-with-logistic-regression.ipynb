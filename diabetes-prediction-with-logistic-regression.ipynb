{
 "cells": [
  {
   "cell_type": "markdown",
   "id": "607f17cd",
   "metadata": {
    "papermill": {
     "duration": 0.018591,
     "end_time": "2023-11-16T17:18:11.372530",
     "exception": false,
     "start_time": "2023-11-16T17:18:11.353939",
     "status": "completed"
    },
    "tags": []
   },
   "source": [
    "# <span style=\"color:purple;\">**Diabetes Identification with Logistic Regression**"
   ]
  },
  {
   "cell_type": "markdown",
   "id": "3a23eb3c",
   "metadata": {
    "papermill": {
     "duration": 0.017444,
     "end_time": "2023-11-16T17:18:11.407736",
     "exception": false,
     "start_time": "2023-11-16T17:18:11.390292",
     "status": "completed"
    },
    "tags": []
   },
   "source": [
    "### **Use Logistic Regression to Predict Binary Class Problem**"
   ]
  },
  {
   "cell_type": "markdown",
   "id": "66f9a581",
   "metadata": {
    "papermill": {
     "duration": 0.01695,
     "end_time": "2023-11-16T17:18:11.442875",
     "exception": false,
     "start_time": "2023-11-16T17:18:11.425925",
     "status": "completed"
    },
    "tags": []
   },
   "source": [
    "## <span style=\"color:purple;\">**Dataset Summary**"
   ]
  },
  {
   "cell_type": "markdown",
   "id": "e9074f23",
   "metadata": {
    "papermill": {
     "duration": 0.01675,
     "end_time": "2023-11-16T17:18:11.476846",
     "exception": false,
     "start_time": "2023-11-16T17:18:11.460096",
     "status": "completed"
    },
    "tags": []
   },
   "source": [
    "#### Nine (9) columns with eight (8) independent parameter and one (1) outcome parameter.\n",
    "\n",
    "#### Seven hundred sixty eight (768) observations having two hundred sixty eight (268) positive for diabetes (1) and five hundred (500) negative for diabetes (0)\n",
    "\n",
    "#### **1. Pregnancies:** Number of times pregnant\n",
    "#### **2. Glucose:** Oral Glucose Tolerance Test result The glucose tolerance test is a lab test to check how your body moves sugar from the blood into tissues like muscle and fat. The test is often used to diagnose diabetes. The most common glucose tolerance test is the oral glucose tolerance test (OGTT). Before the test begins, a sample of blood will be taken. You will then be asked to drink a liquid containing a certain amount of glucose (usually 75 grams). Your blood will be taken again every 30 to 60 minutes after you drink the solution.\n",
    "#### **3. BloodPressure:** Diastolic Blood Pressure values in (mm Hg) The diastolic reading, or the bottom number, is the pressure in the arteries when the heart rests between beats. This is the time when the heart fills with blood and gets oxygen. This is what your diastolic blood pressure number means:\n",
    "* #### Normal: Lower than 80\n",
    "* #### Stage 1 hypertension: 80-89\n",
    "* #### Stage 2 hypertension: 90 or more\n",
    "* #### Hypertensive crisis: 120 or more Most people with diabetes will eventually have high     blood pressure.\n",
    "\n",
    "#### **4. Skin Thickness:** Triceps skin fold thickness in (mm) Skinfold thickness, so that a prediction of the total amount of body fat can be made.The triceps skinfold is necessary for calculating the upper arm muscle circumference. Its thickness gives information about the fat reserves of the body, whereas the calculated muscle mass gives information about the protein reserves. For adults, the standard normal values for triceps skinfolds are 2.5mm (men) or about 20% fat; 18.0mm (women) or about 30% fat. Measurement half, or less, of these values represent about the 15th percentile and can be considered as either borderline, or fat depleted. Values over 20mm (men) and 30mm (women) represent about the 85th percentile, and can be considered.\n",
    "\n",
    "#### **5. Insulin:** 2-Hour serum insulin (mu U/ml) Insulin is a hormone that helps move blood sugar, known as glucose, from your bloodstream into your cells. 2-hour Serum Insulin: Greater than 150 mu U/ml relates to insulin therapy Insulin therapy is a critical part of treatment for people with type 1 diabetes and also for many with type 2 diabetes. The goal of insulin therapy is to keep your blood sugar levels within a target range.\n",
    "\n",
    "#### **6. BMI:** Body mass index The Body Mass Index (BMI) provides a simple, yet accurate method of assessing whether a patient is at risk from either over-or-underweight. However, a proportionally greater lean body mass and/or skeletal frame size can contribute to apparent excess body weight. Many athletes, for example would be considered 'overweight', yet skin-fold tests show a sub-normal amount of adipose tissue. It can easily be calculated by dividing the patient's weight (kg) by the square of their height (meters). BMI= weight(kg)/(height(m)]2\n",
    "\n",
    "#### **7. Diabetes Pedigree Function:** Diabetes pedigree function Diabetes Pedigree Function, it provided some data on diabetes mellitus history in relatives and the genetic relationship of those relatives to the patient. This measure of genetic influence gave us an idea of the hereditary risk one might have with the onset of diabetes mellitus.\n",
    "\n",
    "#### **8. Age:** Age in years\n",
    "\n",
    "#### **9. Outcome:** Class 1 indicates person having diabetes and 0 indicates other.****"
   ]
  },
  {
   "cell_type": "markdown",
   "id": "6af66d31",
   "metadata": {
    "papermill": {
     "duration": 0.016628,
     "end_time": "2023-11-16T17:18:11.510520",
     "exception": false,
     "start_time": "2023-11-16T17:18:11.493892",
     "status": "completed"
    },
    "tags": []
   },
   "source": [
    "## <span style=\"color:purple;\">**Import Library**"
   ]
  },
  {
   "cell_type": "code",
   "execution_count": 1,
   "id": "884c48df",
   "metadata": {
    "execution": {
     "iopub.execute_input": "2023-11-16T17:18:11.548194Z",
     "iopub.status.busy": "2023-11-16T17:18:11.547143Z",
     "iopub.status.idle": "2023-11-16T17:18:12.039402Z",
     "shell.execute_reply": "2023-11-16T17:18:12.038455Z"
    },
    "papermill": {
     "duration": 0.514807,
     "end_time": "2023-11-16T17:18:12.042723",
     "exception": false,
     "start_time": "2023-11-16T17:18:11.527916",
     "status": "completed"
    },
    "tags": []
   },
   "outputs": [],
   "source": [
    "import pandas as pd\n",
    "import numpy as np"
   ]
  },
  {
   "cell_type": "markdown",
   "id": "f2b6bd51",
   "metadata": {
    "papermill": {
     "duration": 0.017174,
     "end_time": "2023-11-16T17:18:12.078532",
     "exception": false,
     "start_time": "2023-11-16T17:18:12.061358",
     "status": "completed"
    },
    "tags": []
   },
   "source": [
    "## <span style=\"color:purple;\">**Import CSV as DataFrame**"
   ]
  },
  {
   "cell_type": "code",
   "execution_count": 2,
   "id": "21569e3f",
   "metadata": {
    "execution": {
     "iopub.execute_input": "2023-11-16T17:18:12.116326Z",
     "iopub.status.busy": "2023-11-16T17:18:12.115129Z",
     "iopub.status.idle": "2023-11-16T17:18:12.578634Z",
     "shell.execute_reply": "2023-11-16T17:18:12.577182Z"
    },
    "papermill": {
     "duration": 0.486216,
     "end_time": "2023-11-16T17:18:12.582152",
     "exception": false,
     "start_time": "2023-11-16T17:18:12.095936",
     "status": "completed"
    },
    "tags": []
   },
   "outputs": [],
   "source": [
    "df= pd.read_csv('https://github.com/YBI-Foundation/Dataset/raw/main/Diabetes.csv')"
   ]
  },
  {
   "cell_type": "markdown",
   "id": "d8df15f1",
   "metadata": {
    "papermill": {
     "duration": 0.016922,
     "end_time": "2023-11-16T17:18:12.616658",
     "exception": false,
     "start_time": "2023-11-16T17:18:12.599736",
     "status": "completed"
    },
    "tags": []
   },
   "source": [
    "## <span style=\"color:purple;\">**Get the First Five Rows of DataFrame**"
   ]
  },
  {
   "cell_type": "code",
   "execution_count": 3,
   "id": "530c3f3c",
   "metadata": {
    "execution": {
     "iopub.execute_input": "2023-11-16T17:18:12.653560Z",
     "iopub.status.busy": "2023-11-16T17:18:12.653072Z",
     "iopub.status.idle": "2023-11-16T17:18:12.686171Z",
     "shell.execute_reply": "2023-11-16T17:18:12.685219Z"
    },
    "papermill": {
     "duration": 0.055587,
     "end_time": "2023-11-16T17:18:12.689510",
     "exception": false,
     "start_time": "2023-11-16T17:18:12.633923",
     "status": "completed"
    },
    "tags": []
   },
   "outputs": [
    {
     "data": {
      "text/html": [
       "<div>\n",
       "<style scoped>\n",
       "    .dataframe tbody tr th:only-of-type {\n",
       "        vertical-align: middle;\n",
       "    }\n",
       "\n",
       "    .dataframe tbody tr th {\n",
       "        vertical-align: top;\n",
       "    }\n",
       "\n",
       "    .dataframe thead th {\n",
       "        text-align: right;\n",
       "    }\n",
       "</style>\n",
       "<table border=\"1\" class=\"dataframe\">\n",
       "  <thead>\n",
       "    <tr style=\"text-align: right;\">\n",
       "      <th></th>\n",
       "      <th>pregnancies</th>\n",
       "      <th>glucose</th>\n",
       "      <th>diastolic</th>\n",
       "      <th>triceps</th>\n",
       "      <th>insulin</th>\n",
       "      <th>bmi</th>\n",
       "      <th>dpf</th>\n",
       "      <th>age</th>\n",
       "      <th>diabetes</th>\n",
       "    </tr>\n",
       "  </thead>\n",
       "  <tbody>\n",
       "    <tr>\n",
       "      <th>0</th>\n",
       "      <td>6</td>\n",
       "      <td>148</td>\n",
       "      <td>72</td>\n",
       "      <td>35</td>\n",
       "      <td>0</td>\n",
       "      <td>33.6</td>\n",
       "      <td>0.627</td>\n",
       "      <td>50</td>\n",
       "      <td>1</td>\n",
       "    </tr>\n",
       "    <tr>\n",
       "      <th>1</th>\n",
       "      <td>1</td>\n",
       "      <td>85</td>\n",
       "      <td>66</td>\n",
       "      <td>29</td>\n",
       "      <td>0</td>\n",
       "      <td>26.6</td>\n",
       "      <td>0.351</td>\n",
       "      <td>31</td>\n",
       "      <td>0</td>\n",
       "    </tr>\n",
       "    <tr>\n",
       "      <th>2</th>\n",
       "      <td>8</td>\n",
       "      <td>183</td>\n",
       "      <td>64</td>\n",
       "      <td>0</td>\n",
       "      <td>0</td>\n",
       "      <td>23.3</td>\n",
       "      <td>0.672</td>\n",
       "      <td>32</td>\n",
       "      <td>1</td>\n",
       "    </tr>\n",
       "    <tr>\n",
       "      <th>3</th>\n",
       "      <td>1</td>\n",
       "      <td>89</td>\n",
       "      <td>66</td>\n",
       "      <td>23</td>\n",
       "      <td>94</td>\n",
       "      <td>28.1</td>\n",
       "      <td>0.167</td>\n",
       "      <td>21</td>\n",
       "      <td>0</td>\n",
       "    </tr>\n",
       "    <tr>\n",
       "      <th>4</th>\n",
       "      <td>0</td>\n",
       "      <td>137</td>\n",
       "      <td>40</td>\n",
       "      <td>35</td>\n",
       "      <td>168</td>\n",
       "      <td>43.1</td>\n",
       "      <td>2.288</td>\n",
       "      <td>33</td>\n",
       "      <td>1</td>\n",
       "    </tr>\n",
       "  </tbody>\n",
       "</table>\n",
       "</div>"
      ],
      "text/plain": [
       "   pregnancies  glucose  diastolic  triceps  insulin   bmi    dpf  age  \\\n",
       "0            6      148         72       35        0  33.6  0.627   50   \n",
       "1            1       85         66       29        0  26.6  0.351   31   \n",
       "2            8      183         64        0        0  23.3  0.672   32   \n",
       "3            1       89         66       23       94  28.1  0.167   21   \n",
       "4            0      137         40       35      168  43.1  2.288   33   \n",
       "\n",
       "   diabetes  \n",
       "0         1  \n",
       "1         0  \n",
       "2         1  \n",
       "3         0  \n",
       "4         1  "
      ]
     },
     "execution_count": 3,
     "metadata": {},
     "output_type": "execute_result"
    }
   ],
   "source": [
    "df.head()"
   ]
  },
  {
   "cell_type": "markdown",
   "id": "122dfc2f",
   "metadata": {
    "papermill": {
     "duration": 0.01758,
     "end_time": "2023-11-16T17:18:12.725121",
     "exception": false,
     "start_time": "2023-11-16T17:18:12.707541",
     "status": "completed"
    },
    "tags": []
   },
   "source": [
    "## <span style=\"color:purple;\">**Get Information of DataFrame**"
   ]
  },
  {
   "cell_type": "code",
   "execution_count": 4,
   "id": "30eb26aa",
   "metadata": {
    "execution": {
     "iopub.execute_input": "2023-11-16T17:18:12.860606Z",
     "iopub.status.busy": "2023-11-16T17:18:12.859195Z",
     "iopub.status.idle": "2023-11-16T17:18:12.887476Z",
     "shell.execute_reply": "2023-11-16T17:18:12.886539Z"
    },
    "papermill": {
     "duration": 0.147434,
     "end_time": "2023-11-16T17:18:12.890506",
     "exception": false,
     "start_time": "2023-11-16T17:18:12.743072",
     "status": "completed"
    },
    "tags": []
   },
   "outputs": [
    {
     "name": "stdout",
     "output_type": "stream",
     "text": [
      "<class 'pandas.core.frame.DataFrame'>\n",
      "RangeIndex: 768 entries, 0 to 767\n",
      "Data columns (total 9 columns):\n",
      " #   Column       Non-Null Count  Dtype  \n",
      "---  ------       --------------  -----  \n",
      " 0   pregnancies  768 non-null    int64  \n",
      " 1   glucose      768 non-null    int64  \n",
      " 2   diastolic    768 non-null    int64  \n",
      " 3   triceps      768 non-null    int64  \n",
      " 4   insulin      768 non-null    int64  \n",
      " 5   bmi          768 non-null    float64\n",
      " 6   dpf          768 non-null    float64\n",
      " 7   age          768 non-null    int64  \n",
      " 8   diabetes     768 non-null    int64  \n",
      "dtypes: float64(2), int64(7)\n",
      "memory usage: 54.1 KB\n"
     ]
    }
   ],
   "source": [
    "df.info()"
   ]
  },
  {
   "cell_type": "markdown",
   "id": "9a934f80",
   "metadata": {
    "papermill": {
     "duration": 0.017648,
     "end_time": "2023-11-16T17:18:12.926557",
     "exception": false,
     "start_time": "2023-11-16T17:18:12.908909",
     "status": "completed"
    },
    "tags": []
   },
   "source": [
    "## <span style=\"color:purple;\">**Get the Summary Statistics**"
   ]
  },
  {
   "cell_type": "code",
   "execution_count": 5,
   "id": "b119154b",
   "metadata": {
    "execution": {
     "iopub.execute_input": "2023-11-16T17:18:12.967921Z",
     "iopub.status.busy": "2023-11-16T17:18:12.966787Z",
     "iopub.status.idle": "2023-11-16T17:18:13.009233Z",
     "shell.execute_reply": "2023-11-16T17:18:13.007777Z"
    },
    "papermill": {
     "duration": 0.067717,
     "end_time": "2023-11-16T17:18:13.012256",
     "exception": false,
     "start_time": "2023-11-16T17:18:12.944539",
     "status": "completed"
    },
    "tags": []
   },
   "outputs": [
    {
     "data": {
      "text/html": [
       "<div>\n",
       "<style scoped>\n",
       "    .dataframe tbody tr th:only-of-type {\n",
       "        vertical-align: middle;\n",
       "    }\n",
       "\n",
       "    .dataframe tbody tr th {\n",
       "        vertical-align: top;\n",
       "    }\n",
       "\n",
       "    .dataframe thead th {\n",
       "        text-align: right;\n",
       "    }\n",
       "</style>\n",
       "<table border=\"1\" class=\"dataframe\">\n",
       "  <thead>\n",
       "    <tr style=\"text-align: right;\">\n",
       "      <th></th>\n",
       "      <th>pregnancies</th>\n",
       "      <th>glucose</th>\n",
       "      <th>diastolic</th>\n",
       "      <th>triceps</th>\n",
       "      <th>insulin</th>\n",
       "      <th>bmi</th>\n",
       "      <th>dpf</th>\n",
       "      <th>age</th>\n",
       "      <th>diabetes</th>\n",
       "    </tr>\n",
       "  </thead>\n",
       "  <tbody>\n",
       "    <tr>\n",
       "      <th>count</th>\n",
       "      <td>768.000000</td>\n",
       "      <td>768.000000</td>\n",
       "      <td>768.000000</td>\n",
       "      <td>768.000000</td>\n",
       "      <td>768.000000</td>\n",
       "      <td>768.000000</td>\n",
       "      <td>768.000000</td>\n",
       "      <td>768.000000</td>\n",
       "      <td>768.000000</td>\n",
       "    </tr>\n",
       "    <tr>\n",
       "      <th>mean</th>\n",
       "      <td>3.845052</td>\n",
       "      <td>120.894531</td>\n",
       "      <td>69.105469</td>\n",
       "      <td>20.536458</td>\n",
       "      <td>79.799479</td>\n",
       "      <td>31.992578</td>\n",
       "      <td>0.471876</td>\n",
       "      <td>33.240885</td>\n",
       "      <td>0.348958</td>\n",
       "    </tr>\n",
       "    <tr>\n",
       "      <th>std</th>\n",
       "      <td>3.369578</td>\n",
       "      <td>31.972618</td>\n",
       "      <td>19.355807</td>\n",
       "      <td>15.952218</td>\n",
       "      <td>115.244002</td>\n",
       "      <td>7.884160</td>\n",
       "      <td>0.331329</td>\n",
       "      <td>11.760232</td>\n",
       "      <td>0.476951</td>\n",
       "    </tr>\n",
       "    <tr>\n",
       "      <th>min</th>\n",
       "      <td>0.000000</td>\n",
       "      <td>0.000000</td>\n",
       "      <td>0.000000</td>\n",
       "      <td>0.000000</td>\n",
       "      <td>0.000000</td>\n",
       "      <td>0.000000</td>\n",
       "      <td>0.078000</td>\n",
       "      <td>21.000000</td>\n",
       "      <td>0.000000</td>\n",
       "    </tr>\n",
       "    <tr>\n",
       "      <th>25%</th>\n",
       "      <td>1.000000</td>\n",
       "      <td>99.000000</td>\n",
       "      <td>62.000000</td>\n",
       "      <td>0.000000</td>\n",
       "      <td>0.000000</td>\n",
       "      <td>27.300000</td>\n",
       "      <td>0.243750</td>\n",
       "      <td>24.000000</td>\n",
       "      <td>0.000000</td>\n",
       "    </tr>\n",
       "    <tr>\n",
       "      <th>50%</th>\n",
       "      <td>3.000000</td>\n",
       "      <td>117.000000</td>\n",
       "      <td>72.000000</td>\n",
       "      <td>23.000000</td>\n",
       "      <td>30.500000</td>\n",
       "      <td>32.000000</td>\n",
       "      <td>0.372500</td>\n",
       "      <td>29.000000</td>\n",
       "      <td>0.000000</td>\n",
       "    </tr>\n",
       "    <tr>\n",
       "      <th>75%</th>\n",
       "      <td>6.000000</td>\n",
       "      <td>140.250000</td>\n",
       "      <td>80.000000</td>\n",
       "      <td>32.000000</td>\n",
       "      <td>127.250000</td>\n",
       "      <td>36.600000</td>\n",
       "      <td>0.626250</td>\n",
       "      <td>41.000000</td>\n",
       "      <td>1.000000</td>\n",
       "    </tr>\n",
       "    <tr>\n",
       "      <th>max</th>\n",
       "      <td>17.000000</td>\n",
       "      <td>199.000000</td>\n",
       "      <td>122.000000</td>\n",
       "      <td>99.000000</td>\n",
       "      <td>846.000000</td>\n",
       "      <td>67.100000</td>\n",
       "      <td>2.420000</td>\n",
       "      <td>81.000000</td>\n",
       "      <td>1.000000</td>\n",
       "    </tr>\n",
       "  </tbody>\n",
       "</table>\n",
       "</div>"
      ],
      "text/plain": [
       "       pregnancies     glucose   diastolic     triceps     insulin  \\\n",
       "count   768.000000  768.000000  768.000000  768.000000  768.000000   \n",
       "mean      3.845052  120.894531   69.105469   20.536458   79.799479   \n",
       "std       3.369578   31.972618   19.355807   15.952218  115.244002   \n",
       "min       0.000000    0.000000    0.000000    0.000000    0.000000   \n",
       "25%       1.000000   99.000000   62.000000    0.000000    0.000000   \n",
       "50%       3.000000  117.000000   72.000000   23.000000   30.500000   \n",
       "75%       6.000000  140.250000   80.000000   32.000000  127.250000   \n",
       "max      17.000000  199.000000  122.000000   99.000000  846.000000   \n",
       "\n",
       "              bmi         dpf         age    diabetes  \n",
       "count  768.000000  768.000000  768.000000  768.000000  \n",
       "mean    31.992578    0.471876   33.240885    0.348958  \n",
       "std      7.884160    0.331329   11.760232    0.476951  \n",
       "min      0.000000    0.078000   21.000000    0.000000  \n",
       "25%     27.300000    0.243750   24.000000    0.000000  \n",
       "50%     32.000000    0.372500   29.000000    0.000000  \n",
       "75%     36.600000    0.626250   41.000000    1.000000  \n",
       "max     67.100000    2.420000   81.000000    1.000000  "
      ]
     },
     "execution_count": 5,
     "metadata": {},
     "output_type": "execute_result"
    }
   ],
   "source": [
    "df.describe()"
   ]
  },
  {
   "cell_type": "markdown",
   "id": "8eedd354",
   "metadata": {
    "papermill": {
     "duration": 0.017948,
     "end_time": "2023-11-16T17:18:13.052323",
     "exception": false,
     "start_time": "2023-11-16T17:18:13.034375",
     "status": "completed"
    },
    "tags": []
   },
   "source": [
    "## <span style=\"color:purple;\">**Get Column Names**"
   ]
  },
  {
   "cell_type": "code",
   "execution_count": 6,
   "id": "d2a57cf1",
   "metadata": {
    "execution": {
     "iopub.execute_input": "2023-11-16T17:18:13.091347Z",
     "iopub.status.busy": "2023-11-16T17:18:13.090891Z",
     "iopub.status.idle": "2023-11-16T17:18:13.098143Z",
     "shell.execute_reply": "2023-11-16T17:18:13.097246Z"
    },
    "papermill": {
     "duration": 0.029709,
     "end_time": "2023-11-16T17:18:13.100401",
     "exception": false,
     "start_time": "2023-11-16T17:18:13.070692",
     "status": "completed"
    },
    "tags": []
   },
   "outputs": [
    {
     "data": {
      "text/plain": [
       "Index(['pregnancies', 'glucose', 'diastolic', 'triceps', 'insulin', 'bmi',\n",
       "       'dpf', 'age', 'diabetes'],\n",
       "      dtype='object')"
      ]
     },
     "execution_count": 6,
     "metadata": {},
     "output_type": "execute_result"
    }
   ],
   "source": [
    "df.columns"
   ]
  },
  {
   "cell_type": "markdown",
   "id": "30f14980",
   "metadata": {
    "papermill": {
     "duration": 0.020118,
     "end_time": "2023-11-16T17:18:13.138872",
     "exception": false,
     "start_time": "2023-11-16T17:18:13.118754",
     "status": "completed"
    },
    "tags": []
   },
   "source": [
    "## <span style=\"color:purple;\">**Get Shape of DataFrame**"
   ]
  },
  {
   "cell_type": "code",
   "execution_count": 7,
   "id": "561d411a",
   "metadata": {
    "execution": {
     "iopub.execute_input": "2023-11-16T17:18:13.178887Z",
     "iopub.status.busy": "2023-11-16T17:18:13.178403Z",
     "iopub.status.idle": "2023-11-16T17:18:13.186260Z",
     "shell.execute_reply": "2023-11-16T17:18:13.184935Z"
    },
    "papermill": {
     "duration": 0.030714,
     "end_time": "2023-11-16T17:18:13.188751",
     "exception": false,
     "start_time": "2023-11-16T17:18:13.158037",
     "status": "completed"
    },
    "tags": []
   },
   "outputs": [
    {
     "data": {
      "text/plain": [
       "(768, 9)"
      ]
     },
     "execution_count": 7,
     "metadata": {},
     "output_type": "execute_result"
    }
   ],
   "source": [
    "df.shape"
   ]
  },
  {
   "cell_type": "markdown",
   "id": "e8cfb000",
   "metadata": {
    "papermill": {
     "duration": 0.020102,
     "end_time": "2023-11-16T17:18:13.228969",
     "exception": false,
     "start_time": "2023-11-16T17:18:13.208867",
     "status": "completed"
    },
    "tags": []
   },
   "source": [
    "## <span style=\"color:purple;\">**Get Unique Values (Class or Label) in Y Variable**"
   ]
  },
  {
   "cell_type": "code",
   "execution_count": 8,
   "id": "504e35d4",
   "metadata": {
    "execution": {
     "iopub.execute_input": "2023-11-16T17:18:13.270073Z",
     "iopub.status.busy": "2023-11-16T17:18:13.269376Z",
     "iopub.status.idle": "2023-11-16T17:18:13.277246Z",
     "shell.execute_reply": "2023-11-16T17:18:13.276372Z"
    },
    "papermill": {
     "duration": 0.031117,
     "end_time": "2023-11-16T17:18:13.279919",
     "exception": false,
     "start_time": "2023-11-16T17:18:13.248802",
     "status": "completed"
    },
    "tags": []
   },
   "outputs": [
    {
     "data": {
      "text/plain": [
       "diabetes\n",
       "0    500\n",
       "1    268\n",
       "Name: count, dtype: int64"
      ]
     },
     "execution_count": 8,
     "metadata": {},
     "output_type": "execute_result"
    }
   ],
   "source": [
    "df['diabetes'].value_counts()"
   ]
  },
  {
   "cell_type": "code",
   "execution_count": 9,
   "id": "15624e42",
   "metadata": {
    "execution": {
     "iopub.execute_input": "2023-11-16T17:18:13.321999Z",
     "iopub.status.busy": "2023-11-16T17:18:13.321107Z",
     "iopub.status.idle": "2023-11-16T17:18:13.346821Z",
     "shell.execute_reply": "2023-11-16T17:18:13.345537Z"
    },
    "papermill": {
     "duration": 0.050191,
     "end_time": "2023-11-16T17:18:13.349561",
     "exception": false,
     "start_time": "2023-11-16T17:18:13.299370",
     "status": "completed"
    },
    "tags": []
   },
   "outputs": [
    {
     "data": {
      "text/html": [
       "<div>\n",
       "<style scoped>\n",
       "    .dataframe tbody tr th:only-of-type {\n",
       "        vertical-align: middle;\n",
       "    }\n",
       "\n",
       "    .dataframe tbody tr th {\n",
       "        vertical-align: top;\n",
       "    }\n",
       "\n",
       "    .dataframe thead th {\n",
       "        text-align: right;\n",
       "    }\n",
       "</style>\n",
       "<table border=\"1\" class=\"dataframe\">\n",
       "  <thead>\n",
       "    <tr style=\"text-align: right;\">\n",
       "      <th></th>\n",
       "      <th>pregnancies</th>\n",
       "      <th>glucose</th>\n",
       "      <th>diastolic</th>\n",
       "      <th>triceps</th>\n",
       "      <th>insulin</th>\n",
       "      <th>bmi</th>\n",
       "      <th>dpf</th>\n",
       "      <th>age</th>\n",
       "    </tr>\n",
       "    <tr>\n",
       "      <th>diabetes</th>\n",
       "      <th></th>\n",
       "      <th></th>\n",
       "      <th></th>\n",
       "      <th></th>\n",
       "      <th></th>\n",
       "      <th></th>\n",
       "      <th></th>\n",
       "      <th></th>\n",
       "    </tr>\n",
       "  </thead>\n",
       "  <tbody>\n",
       "    <tr>\n",
       "      <th>0</th>\n",
       "      <td>3.298000</td>\n",
       "      <td>109.980000</td>\n",
       "      <td>68.184000</td>\n",
       "      <td>19.664000</td>\n",
       "      <td>68.792000</td>\n",
       "      <td>30.304200</td>\n",
       "      <td>0.429734</td>\n",
       "      <td>31.190000</td>\n",
       "    </tr>\n",
       "    <tr>\n",
       "      <th>1</th>\n",
       "      <td>4.865672</td>\n",
       "      <td>141.257463</td>\n",
       "      <td>70.824627</td>\n",
       "      <td>22.164179</td>\n",
       "      <td>100.335821</td>\n",
       "      <td>35.142537</td>\n",
       "      <td>0.550500</td>\n",
       "      <td>37.067164</td>\n",
       "    </tr>\n",
       "  </tbody>\n",
       "</table>\n",
       "</div>"
      ],
      "text/plain": [
       "          pregnancies     glucose  diastolic    triceps     insulin  \\\n",
       "diabetes                                                              \n",
       "0            3.298000  109.980000  68.184000  19.664000   68.792000   \n",
       "1            4.865672  141.257463  70.824627  22.164179  100.335821   \n",
       "\n",
       "                bmi       dpf        age  \n",
       "diabetes                                  \n",
       "0         30.304200  0.429734  31.190000  \n",
       "1         35.142537  0.550500  37.067164  "
      ]
     },
     "execution_count": 9,
     "metadata": {},
     "output_type": "execute_result"
    }
   ],
   "source": [
    "df.groupby('diabetes').mean()"
   ]
  },
  {
   "cell_type": "markdown",
   "id": "a440af7c",
   "metadata": {
    "papermill": {
     "duration": 0.018957,
     "end_time": "2023-11-16T17:18:13.389274",
     "exception": false,
     "start_time": "2023-11-16T17:18:13.370317",
     "status": "completed"
    },
    "tags": []
   },
   "source": [
    "## <span style=\"color:purple;\">**Define Y (dependent or label or target variable) and X (independent or features or attribute variable)**"
   ]
  },
  {
   "cell_type": "code",
   "execution_count": 10,
   "id": "5de23d45",
   "metadata": {
    "execution": {
     "iopub.execute_input": "2023-11-16T17:18:13.429525Z",
     "iopub.status.busy": "2023-11-16T17:18:13.428817Z",
     "iopub.status.idle": "2023-11-16T17:18:13.433095Z",
     "shell.execute_reply": "2023-11-16T17:18:13.432321Z"
    },
    "papermill": {
     "duration": 0.027064,
     "end_time": "2023-11-16T17:18:13.435450",
     "exception": false,
     "start_time": "2023-11-16T17:18:13.408386",
     "status": "completed"
    },
    "tags": []
   },
   "outputs": [],
   "source": [
    "y= df['diabetes']"
   ]
  },
  {
   "cell_type": "code",
   "execution_count": 11,
   "id": "54224e77",
   "metadata": {
    "execution": {
     "iopub.execute_input": "2023-11-16T17:18:13.475766Z",
     "iopub.status.busy": "2023-11-16T17:18:13.475007Z",
     "iopub.status.idle": "2023-11-16T17:18:13.481353Z",
     "shell.execute_reply": "2023-11-16T17:18:13.480107Z"
    },
    "papermill": {
     "duration": 0.029587,
     "end_time": "2023-11-16T17:18:13.483929",
     "exception": false,
     "start_time": "2023-11-16T17:18:13.454342",
     "status": "completed"
    },
    "tags": []
   },
   "outputs": [
    {
     "data": {
      "text/plain": [
       "(768,)"
      ]
     },
     "execution_count": 11,
     "metadata": {},
     "output_type": "execute_result"
    }
   ],
   "source": [
    "y.shape"
   ]
  },
  {
   "cell_type": "code",
   "execution_count": 12,
   "id": "5b427163",
   "metadata": {
    "execution": {
     "iopub.execute_input": "2023-11-16T17:18:13.524376Z",
     "iopub.status.busy": "2023-11-16T17:18:13.523973Z",
     "iopub.status.idle": "2023-11-16T17:18:13.533049Z",
     "shell.execute_reply": "2023-11-16T17:18:13.531676Z"
    },
    "papermill": {
     "duration": 0.032513,
     "end_time": "2023-11-16T17:18:13.535807",
     "exception": false,
     "start_time": "2023-11-16T17:18:13.503294",
     "status": "completed"
    },
    "tags": []
   },
   "outputs": [
    {
     "data": {
      "text/plain": [
       "0      1\n",
       "1      0\n",
       "2      1\n",
       "3      0\n",
       "4      1\n",
       "      ..\n",
       "763    0\n",
       "764    0\n",
       "765    0\n",
       "766    1\n",
       "767    0\n",
       "Name: diabetes, Length: 768, dtype: int64"
      ]
     },
     "execution_count": 12,
     "metadata": {},
     "output_type": "execute_result"
    }
   ],
   "source": [
    "y"
   ]
  },
  {
   "cell_type": "code",
   "execution_count": 13,
   "id": "29a93f45",
   "metadata": {
    "execution": {
     "iopub.execute_input": "2023-11-16T17:18:13.576340Z",
     "iopub.status.busy": "2023-11-16T17:18:13.575905Z",
     "iopub.status.idle": "2023-11-16T17:18:13.585248Z",
     "shell.execute_reply": "2023-11-16T17:18:13.583940Z"
    },
    "papermill": {
     "duration": 0.032687,
     "end_time": "2023-11-16T17:18:13.587817",
     "exception": false,
     "start_time": "2023-11-16T17:18:13.555130",
     "status": "completed"
    },
    "tags": []
   },
   "outputs": [],
   "source": [
    "x= df[['pregnancies', 'glucose', 'diastolic', 'triceps', 'insulin', 'bmi',\n",
    "       'dpf', 'age']]"
   ]
  },
  {
   "cell_type": "markdown",
   "id": "ad2b3dcd",
   "metadata": {
    "papermill": {
     "duration": 0.019042,
     "end_time": "2023-11-16T17:18:13.626689",
     "exception": false,
     "start_time": "2023-11-16T17:18:13.607647",
     "status": "completed"
    },
    "tags": []
   },
   "source": [
    "### **Or Use .Drop function to Define X**"
   ]
  },
  {
   "cell_type": "code",
   "execution_count": 14,
   "id": "e672b08a",
   "metadata": {
    "execution": {
     "iopub.execute_input": "2023-11-16T17:18:13.668310Z",
     "iopub.status.busy": "2023-11-16T17:18:13.667456Z",
     "iopub.status.idle": "2023-11-16T17:18:13.673651Z",
     "shell.execute_reply": "2023-11-16T17:18:13.672799Z"
    },
    "papermill": {
     "duration": 0.029665,
     "end_time": "2023-11-16T17:18:13.675969",
     "exception": false,
     "start_time": "2023-11-16T17:18:13.646304",
     "status": "completed"
    },
    "tags": []
   },
   "outputs": [],
   "source": [
    "x= df.drop('diabetes', axis= 1)"
   ]
  },
  {
   "cell_type": "code",
   "execution_count": 15,
   "id": "0de6a545",
   "metadata": {
    "execution": {
     "iopub.execute_input": "2023-11-16T17:18:13.717852Z",
     "iopub.status.busy": "2023-11-16T17:18:13.716728Z",
     "iopub.status.idle": "2023-11-16T17:18:13.723335Z",
     "shell.execute_reply": "2023-11-16T17:18:13.722090Z"
    },
    "papermill": {
     "duration": 0.030541,
     "end_time": "2023-11-16T17:18:13.725935",
     "exception": false,
     "start_time": "2023-11-16T17:18:13.695394",
     "status": "completed"
    },
    "tags": []
   },
   "outputs": [
    {
     "data": {
      "text/plain": [
       "(768, 8)"
      ]
     },
     "execution_count": 15,
     "metadata": {},
     "output_type": "execute_result"
    }
   ],
   "source": [
    "x.shape"
   ]
  },
  {
   "cell_type": "code",
   "execution_count": 16,
   "id": "abddb4bd",
   "metadata": {
    "execution": {
     "iopub.execute_input": "2023-11-16T17:18:13.766963Z",
     "iopub.status.busy": "2023-11-16T17:18:13.766543Z",
     "iopub.status.idle": "2023-11-16T17:18:13.787613Z",
     "shell.execute_reply": "2023-11-16T17:18:13.786470Z"
    },
    "papermill": {
     "duration": 0.044461,
     "end_time": "2023-11-16T17:18:13.790074",
     "exception": false,
     "start_time": "2023-11-16T17:18:13.745613",
     "status": "completed"
    },
    "tags": []
   },
   "outputs": [
    {
     "data": {
      "text/html": [
       "<div>\n",
       "<style scoped>\n",
       "    .dataframe tbody tr th:only-of-type {\n",
       "        vertical-align: middle;\n",
       "    }\n",
       "\n",
       "    .dataframe tbody tr th {\n",
       "        vertical-align: top;\n",
       "    }\n",
       "\n",
       "    .dataframe thead th {\n",
       "        text-align: right;\n",
       "    }\n",
       "</style>\n",
       "<table border=\"1\" class=\"dataframe\">\n",
       "  <thead>\n",
       "    <tr style=\"text-align: right;\">\n",
       "      <th></th>\n",
       "      <th>pregnancies</th>\n",
       "      <th>glucose</th>\n",
       "      <th>diastolic</th>\n",
       "      <th>triceps</th>\n",
       "      <th>insulin</th>\n",
       "      <th>bmi</th>\n",
       "      <th>dpf</th>\n",
       "      <th>age</th>\n",
       "    </tr>\n",
       "  </thead>\n",
       "  <tbody>\n",
       "    <tr>\n",
       "      <th>0</th>\n",
       "      <td>6</td>\n",
       "      <td>148</td>\n",
       "      <td>72</td>\n",
       "      <td>35</td>\n",
       "      <td>0</td>\n",
       "      <td>33.6</td>\n",
       "      <td>0.627</td>\n",
       "      <td>50</td>\n",
       "    </tr>\n",
       "    <tr>\n",
       "      <th>1</th>\n",
       "      <td>1</td>\n",
       "      <td>85</td>\n",
       "      <td>66</td>\n",
       "      <td>29</td>\n",
       "      <td>0</td>\n",
       "      <td>26.6</td>\n",
       "      <td>0.351</td>\n",
       "      <td>31</td>\n",
       "    </tr>\n",
       "    <tr>\n",
       "      <th>2</th>\n",
       "      <td>8</td>\n",
       "      <td>183</td>\n",
       "      <td>64</td>\n",
       "      <td>0</td>\n",
       "      <td>0</td>\n",
       "      <td>23.3</td>\n",
       "      <td>0.672</td>\n",
       "      <td>32</td>\n",
       "    </tr>\n",
       "    <tr>\n",
       "      <th>3</th>\n",
       "      <td>1</td>\n",
       "      <td>89</td>\n",
       "      <td>66</td>\n",
       "      <td>23</td>\n",
       "      <td>94</td>\n",
       "      <td>28.1</td>\n",
       "      <td>0.167</td>\n",
       "      <td>21</td>\n",
       "    </tr>\n",
       "    <tr>\n",
       "      <th>4</th>\n",
       "      <td>0</td>\n",
       "      <td>137</td>\n",
       "      <td>40</td>\n",
       "      <td>35</td>\n",
       "      <td>168</td>\n",
       "      <td>43.1</td>\n",
       "      <td>2.288</td>\n",
       "      <td>33</td>\n",
       "    </tr>\n",
       "    <tr>\n",
       "      <th>...</th>\n",
       "      <td>...</td>\n",
       "      <td>...</td>\n",
       "      <td>...</td>\n",
       "      <td>...</td>\n",
       "      <td>...</td>\n",
       "      <td>...</td>\n",
       "      <td>...</td>\n",
       "      <td>...</td>\n",
       "    </tr>\n",
       "    <tr>\n",
       "      <th>763</th>\n",
       "      <td>10</td>\n",
       "      <td>101</td>\n",
       "      <td>76</td>\n",
       "      <td>48</td>\n",
       "      <td>180</td>\n",
       "      <td>32.9</td>\n",
       "      <td>0.171</td>\n",
       "      <td>63</td>\n",
       "    </tr>\n",
       "    <tr>\n",
       "      <th>764</th>\n",
       "      <td>2</td>\n",
       "      <td>122</td>\n",
       "      <td>70</td>\n",
       "      <td>27</td>\n",
       "      <td>0</td>\n",
       "      <td>36.8</td>\n",
       "      <td>0.340</td>\n",
       "      <td>27</td>\n",
       "    </tr>\n",
       "    <tr>\n",
       "      <th>765</th>\n",
       "      <td>5</td>\n",
       "      <td>121</td>\n",
       "      <td>72</td>\n",
       "      <td>23</td>\n",
       "      <td>112</td>\n",
       "      <td>26.2</td>\n",
       "      <td>0.245</td>\n",
       "      <td>30</td>\n",
       "    </tr>\n",
       "    <tr>\n",
       "      <th>766</th>\n",
       "      <td>1</td>\n",
       "      <td>126</td>\n",
       "      <td>60</td>\n",
       "      <td>0</td>\n",
       "      <td>0</td>\n",
       "      <td>30.1</td>\n",
       "      <td>0.349</td>\n",
       "      <td>47</td>\n",
       "    </tr>\n",
       "    <tr>\n",
       "      <th>767</th>\n",
       "      <td>1</td>\n",
       "      <td>93</td>\n",
       "      <td>70</td>\n",
       "      <td>31</td>\n",
       "      <td>0</td>\n",
       "      <td>30.4</td>\n",
       "      <td>0.315</td>\n",
       "      <td>23</td>\n",
       "    </tr>\n",
       "  </tbody>\n",
       "</table>\n",
       "<p>768 rows × 8 columns</p>\n",
       "</div>"
      ],
      "text/plain": [
       "     pregnancies  glucose  diastolic  triceps  insulin   bmi    dpf  age\n",
       "0              6      148         72       35        0  33.6  0.627   50\n",
       "1              1       85         66       29        0  26.6  0.351   31\n",
       "2              8      183         64        0        0  23.3  0.672   32\n",
       "3              1       89         66       23       94  28.1  0.167   21\n",
       "4              0      137         40       35      168  43.1  2.288   33\n",
       "..           ...      ...        ...      ...      ...   ...    ...  ...\n",
       "763           10      101         76       48      180  32.9  0.171   63\n",
       "764            2      122         70       27        0  36.8  0.340   27\n",
       "765            5      121         72       23      112  26.2  0.245   30\n",
       "766            1      126         60        0        0  30.1  0.349   47\n",
       "767            1       93         70       31        0  30.4  0.315   23\n",
       "\n",
       "[768 rows x 8 columns]"
      ]
     },
     "execution_count": 16,
     "metadata": {},
     "output_type": "execute_result"
    }
   ],
   "source": [
    "x"
   ]
  },
  {
   "cell_type": "markdown",
   "id": "92ec3046",
   "metadata": {
    "papermill": {
     "duration": 0.019882,
     "end_time": "2023-11-16T17:18:13.830203",
     "exception": false,
     "start_time": "2023-11-16T17:18:13.810321",
     "status": "completed"
    },
    "tags": []
   },
   "source": [
    "###  <span style=\"color:purple;\">**Get X Variables Standardized**\n",
    "    \n",
    "#### Standardization of datasets is a common requirement for many machine learning estimators implemented in scikit-learn; they might behave badly if the individual features do not more or less look like standard normally distributed data: Gaussian with zero mean and unit variance.\n",
    "#### Next approach is go for MinMax Scaler"
   ]
  },
  {
   "cell_type": "code",
   "execution_count": 17,
   "id": "2dd956dd",
   "metadata": {
    "execution": {
     "iopub.execute_input": "2023-11-16T17:18:13.872297Z",
     "iopub.status.busy": "2023-11-16T17:18:13.871876Z",
     "iopub.status.idle": "2023-11-16T17:18:15.219596Z",
     "shell.execute_reply": "2023-11-16T17:18:15.218071Z"
    },
    "papermill": {
     "duration": 1.372845,
     "end_time": "2023-11-16T17:18:15.223055",
     "exception": false,
     "start_time": "2023-11-16T17:18:13.850210",
     "status": "completed"
    },
    "tags": []
   },
   "outputs": [],
   "source": [
    "from sklearn.preprocessing import MinMaxScaler"
   ]
  },
  {
   "cell_type": "code",
   "execution_count": 18,
   "id": "b6e67be9",
   "metadata": {
    "execution": {
     "iopub.execute_input": "2023-11-16T17:18:15.267011Z",
     "iopub.status.busy": "2023-11-16T17:18:15.266212Z",
     "iopub.status.idle": "2023-11-16T17:18:15.271416Z",
     "shell.execute_reply": "2023-11-16T17:18:15.270507Z"
    },
    "papermill": {
     "duration": 0.029461,
     "end_time": "2023-11-16T17:18:15.273664",
     "exception": false,
     "start_time": "2023-11-16T17:18:15.244203",
     "status": "completed"
    },
    "tags": []
   },
   "outputs": [],
   "source": [
    "mm= MinMaxScaler()"
   ]
  },
  {
   "cell_type": "code",
   "execution_count": 19,
   "id": "92ba5ae9",
   "metadata": {
    "execution": {
     "iopub.execute_input": "2023-11-16T17:18:15.316813Z",
     "iopub.status.busy": "2023-11-16T17:18:15.315516Z",
     "iopub.status.idle": "2023-11-16T17:18:15.328548Z",
     "shell.execute_reply": "2023-11-16T17:18:15.327257Z"
    },
    "papermill": {
     "duration": 0.036775,
     "end_time": "2023-11-16T17:18:15.330923",
     "exception": false,
     "start_time": "2023-11-16T17:18:15.294148",
     "status": "completed"
    },
    "tags": []
   },
   "outputs": [
    {
     "data": {
      "text/plain": [
       "array([[0.35294118, 0.74371859, 0.59016393, ..., 0.50074516, 0.23441503,\n",
       "        0.48333333],\n",
       "       [0.05882353, 0.42713568, 0.54098361, ..., 0.39642325, 0.11656704,\n",
       "        0.16666667],\n",
       "       [0.47058824, 0.91959799, 0.52459016, ..., 0.34724292, 0.25362938,\n",
       "        0.18333333],\n",
       "       ...,\n",
       "       [0.29411765, 0.6080402 , 0.59016393, ..., 0.390462  , 0.07130658,\n",
       "        0.15      ],\n",
       "       [0.05882353, 0.63316583, 0.49180328, ..., 0.4485842 , 0.11571307,\n",
       "        0.43333333],\n",
       "       [0.05882353, 0.46733668, 0.57377049, ..., 0.45305514, 0.10119556,\n",
       "        0.03333333]])"
      ]
     },
     "execution_count": 19,
     "metadata": {},
     "output_type": "execute_result"
    }
   ],
   "source": [
    "x= mm.fit_transform(x)\n",
    "x"
   ]
  },
  {
   "cell_type": "markdown",
   "id": "9ea7eea9",
   "metadata": {
    "papermill": {
     "duration": 0.019941,
     "end_time": "2023-11-16T17:18:15.370931",
     "exception": false,
     "start_time": "2023-11-16T17:18:15.350990",
     "status": "completed"
    },
    "tags": []
   },
   "source": [
    "### <span style=\"color:purple;\">**Get Train Test Split**"
   ]
  },
  {
   "cell_type": "code",
   "execution_count": 20,
   "id": "f0c66990",
   "metadata": {
    "execution": {
     "iopub.execute_input": "2023-11-16T17:18:15.413659Z",
     "iopub.status.busy": "2023-11-16T17:18:15.413224Z",
     "iopub.status.idle": "2023-11-16T17:18:15.532411Z",
     "shell.execute_reply": "2023-11-16T17:18:15.531064Z"
    },
    "papermill": {
     "duration": 0.144396,
     "end_time": "2023-11-16T17:18:15.535483",
     "exception": false,
     "start_time": "2023-11-16T17:18:15.391087",
     "status": "completed"
    },
    "tags": []
   },
   "outputs": [],
   "source": [
    "from sklearn.model_selection import train_test_split"
   ]
  },
  {
   "cell_type": "code",
   "execution_count": 21,
   "id": "84ddc15e",
   "metadata": {
    "execution": {
     "iopub.execute_input": "2023-11-16T17:18:15.577925Z",
     "iopub.status.busy": "2023-11-16T17:18:15.577464Z",
     "iopub.status.idle": "2023-11-16T17:18:15.589260Z",
     "shell.execute_reply": "2023-11-16T17:18:15.587814Z"
    },
    "papermill": {
     "duration": 0.03576,
     "end_time": "2023-11-16T17:18:15.591808",
     "exception": false,
     "start_time": "2023-11-16T17:18:15.556048",
     "status": "completed"
    },
    "tags": []
   },
   "outputs": [],
   "source": [
    "x_train, x_test, y_train, y_test = train_test_split(x,y,test_size= 0.3, stratify= y,random_state= 2529)"
   ]
  },
  {
   "cell_type": "code",
   "execution_count": 22,
   "id": "5fad0702",
   "metadata": {
    "execution": {
     "iopub.execute_input": "2023-11-16T17:18:15.633859Z",
     "iopub.status.busy": "2023-11-16T17:18:15.633365Z",
     "iopub.status.idle": "2023-11-16T17:18:15.642492Z",
     "shell.execute_reply": "2023-11-16T17:18:15.640937Z"
    },
    "papermill": {
     "duration": 0.033426,
     "end_time": "2023-11-16T17:18:15.645087",
     "exception": false,
     "start_time": "2023-11-16T17:18:15.611661",
     "status": "completed"
    },
    "tags": []
   },
   "outputs": [
    {
     "data": {
      "text/plain": [
       "((537, 8), (231, 8), (537,), (231,))"
      ]
     },
     "execution_count": 22,
     "metadata": {},
     "output_type": "execute_result"
    }
   ],
   "source": [
    "x_train.shape, x_test.shape, y_train.shape, y_test.shape"
   ]
  },
  {
   "cell_type": "markdown",
   "id": "13da2169",
   "metadata": {
    "papermill": {
     "duration": 0.019547,
     "end_time": "2023-11-16T17:18:15.684618",
     "exception": false,
     "start_time": "2023-11-16T17:18:15.665071",
     "status": "completed"
    },
    "tags": []
   },
   "source": [
    "### <span style=\"color:purple;\">**Get Model Train**"
   ]
  },
  {
   "cell_type": "code",
   "execution_count": 23,
   "id": "253082fe",
   "metadata": {
    "execution": {
     "iopub.execute_input": "2023-11-16T17:18:15.726516Z",
     "iopub.status.busy": "2023-11-16T17:18:15.726037Z",
     "iopub.status.idle": "2023-11-16T17:18:15.971846Z",
     "shell.execute_reply": "2023-11-16T17:18:15.970411Z"
    },
    "papermill": {
     "duration": 0.27047,
     "end_time": "2023-11-16T17:18:15.974934",
     "exception": false,
     "start_time": "2023-11-16T17:18:15.704464",
     "status": "completed"
    },
    "tags": []
   },
   "outputs": [],
   "source": [
    "from sklearn.linear_model import LogisticRegression"
   ]
  },
  {
   "cell_type": "code",
   "execution_count": 24,
   "id": "41859cc4",
   "metadata": {
    "execution": {
     "iopub.execute_input": "2023-11-16T17:18:16.026873Z",
     "iopub.status.busy": "2023-11-16T17:18:16.026371Z",
     "iopub.status.idle": "2023-11-16T17:18:16.032102Z",
     "shell.execute_reply": "2023-11-16T17:18:16.030657Z"
    },
    "papermill": {
     "duration": 0.038491,
     "end_time": "2023-11-16T17:18:16.035314",
     "exception": false,
     "start_time": "2023-11-16T17:18:15.996823",
     "status": "completed"
    },
    "tags": []
   },
   "outputs": [],
   "source": [
    "lr = LogisticRegression()"
   ]
  },
  {
   "cell_type": "code",
   "execution_count": 25,
   "id": "f8c0f9a8",
   "metadata": {
    "execution": {
     "iopub.execute_input": "2023-11-16T17:18:16.086746Z",
     "iopub.status.busy": "2023-11-16T17:18:16.085453Z",
     "iopub.status.idle": "2023-11-16T17:18:16.111222Z",
     "shell.execute_reply": "2023-11-16T17:18:16.109546Z"
    },
    "papermill": {
     "duration": 0.05214,
     "end_time": "2023-11-16T17:18:16.114232",
     "exception": false,
     "start_time": "2023-11-16T17:18:16.062092",
     "status": "completed"
    },
    "tags": []
   },
   "outputs": [
    {
     "data": {
      "text/html": [
       "<style>#sk-container-id-1 {color: black;background-color: white;}#sk-container-id-1 pre{padding: 0;}#sk-container-id-1 div.sk-toggleable {background-color: white;}#sk-container-id-1 label.sk-toggleable__label {cursor: pointer;display: block;width: 100%;margin-bottom: 0;padding: 0.3em;box-sizing: border-box;text-align: center;}#sk-container-id-1 label.sk-toggleable__label-arrow:before {content: \"▸\";float: left;margin-right: 0.25em;color: #696969;}#sk-container-id-1 label.sk-toggleable__label-arrow:hover:before {color: black;}#sk-container-id-1 div.sk-estimator:hover label.sk-toggleable__label-arrow:before {color: black;}#sk-container-id-1 div.sk-toggleable__content {max-height: 0;max-width: 0;overflow: hidden;text-align: left;background-color: #f0f8ff;}#sk-container-id-1 div.sk-toggleable__content pre {margin: 0.2em;color: black;border-radius: 0.25em;background-color: #f0f8ff;}#sk-container-id-1 input.sk-toggleable__control:checked~div.sk-toggleable__content {max-height: 200px;max-width: 100%;overflow: auto;}#sk-container-id-1 input.sk-toggleable__control:checked~label.sk-toggleable__label-arrow:before {content: \"▾\";}#sk-container-id-1 div.sk-estimator input.sk-toggleable__control:checked~label.sk-toggleable__label {background-color: #d4ebff;}#sk-container-id-1 div.sk-label input.sk-toggleable__control:checked~label.sk-toggleable__label {background-color: #d4ebff;}#sk-container-id-1 input.sk-hidden--visually {border: 0;clip: rect(1px 1px 1px 1px);clip: rect(1px, 1px, 1px, 1px);height: 1px;margin: -1px;overflow: hidden;padding: 0;position: absolute;width: 1px;}#sk-container-id-1 div.sk-estimator {font-family: monospace;background-color: #f0f8ff;border: 1px dotted black;border-radius: 0.25em;box-sizing: border-box;margin-bottom: 0.5em;}#sk-container-id-1 div.sk-estimator:hover {background-color: #d4ebff;}#sk-container-id-1 div.sk-parallel-item::after {content: \"\";width: 100%;border-bottom: 1px solid gray;flex-grow: 1;}#sk-container-id-1 div.sk-label:hover label.sk-toggleable__label {background-color: #d4ebff;}#sk-container-id-1 div.sk-serial::before {content: \"\";position: absolute;border-left: 1px solid gray;box-sizing: border-box;top: 0;bottom: 0;left: 50%;z-index: 0;}#sk-container-id-1 div.sk-serial {display: flex;flex-direction: column;align-items: center;background-color: white;padding-right: 0.2em;padding-left: 0.2em;position: relative;}#sk-container-id-1 div.sk-item {position: relative;z-index: 1;}#sk-container-id-1 div.sk-parallel {display: flex;align-items: stretch;justify-content: center;background-color: white;position: relative;}#sk-container-id-1 div.sk-item::before, #sk-container-id-1 div.sk-parallel-item::before {content: \"\";position: absolute;border-left: 1px solid gray;box-sizing: border-box;top: 0;bottom: 0;left: 50%;z-index: -1;}#sk-container-id-1 div.sk-parallel-item {display: flex;flex-direction: column;z-index: 1;position: relative;background-color: white;}#sk-container-id-1 div.sk-parallel-item:first-child::after {align-self: flex-end;width: 50%;}#sk-container-id-1 div.sk-parallel-item:last-child::after {align-self: flex-start;width: 50%;}#sk-container-id-1 div.sk-parallel-item:only-child::after {width: 0;}#sk-container-id-1 div.sk-dashed-wrapped {border: 1px dashed gray;margin: 0 0.4em 0.5em 0.4em;box-sizing: border-box;padding-bottom: 0.4em;background-color: white;}#sk-container-id-1 div.sk-label label {font-family: monospace;font-weight: bold;display: inline-block;line-height: 1.2em;}#sk-container-id-1 div.sk-label-container {text-align: center;}#sk-container-id-1 div.sk-container {/* jupyter's `normalize.less` sets `[hidden] { display: none; }` but bootstrap.min.css set `[hidden] { display: none !important; }` so we also need the `!important` here to be able to override the default hidden behavior on the sphinx rendered scikit-learn.org. See: https://github.com/scikit-learn/scikit-learn/issues/21755 */display: inline-block !important;position: relative;}#sk-container-id-1 div.sk-text-repr-fallback {display: none;}</style><div id=\"sk-container-id-1\" class=\"sk-top-container\"><div class=\"sk-text-repr-fallback\"><pre>LogisticRegression()</pre><b>In a Jupyter environment, please rerun this cell to show the HTML representation or trust the notebook. <br />On GitHub, the HTML representation is unable to render, please try loading this page with nbviewer.org.</b></div><div class=\"sk-container\" hidden><div class=\"sk-item\"><div class=\"sk-estimator sk-toggleable\"><input class=\"sk-toggleable__control sk-hidden--visually\" id=\"sk-estimator-id-1\" type=\"checkbox\" checked><label for=\"sk-estimator-id-1\" class=\"sk-toggleable__label sk-toggleable__label-arrow\">LogisticRegression</label><div class=\"sk-toggleable__content\"><pre>LogisticRegression()</pre></div></div></div></div></div>"
      ],
      "text/plain": [
       "LogisticRegression()"
      ]
     },
     "execution_count": 25,
     "metadata": {},
     "output_type": "execute_result"
    }
   ],
   "source": [
    "lr.fit(x_train, y_train)"
   ]
  },
  {
   "cell_type": "markdown",
   "id": "1ea8bc97",
   "metadata": {
    "papermill": {
     "duration": 0.020117,
     "end_time": "2023-11-16T17:18:16.155414",
     "exception": false,
     "start_time": "2023-11-16T17:18:16.135297",
     "status": "completed"
    },
    "tags": []
   },
   "source": [
    "### <span style=\"color:purple;\">**Get Model Prediction**"
   ]
  },
  {
   "cell_type": "code",
   "execution_count": 26,
   "id": "c2c37be3",
   "metadata": {
    "execution": {
     "iopub.execute_input": "2023-11-16T17:18:16.211543Z",
     "iopub.status.busy": "2023-11-16T17:18:16.210480Z",
     "iopub.status.idle": "2023-11-16T17:18:16.217577Z",
     "shell.execute_reply": "2023-11-16T17:18:16.216475Z"
    },
    "papermill": {
     "duration": 0.039078,
     "end_time": "2023-11-16T17:18:16.220671",
     "exception": false,
     "start_time": "2023-11-16T17:18:16.181593",
     "status": "completed"
    },
    "tags": []
   },
   "outputs": [],
   "source": [
    "y_pred= lr.predict(x_test)"
   ]
  },
  {
   "cell_type": "code",
   "execution_count": 27,
   "id": "4214617d",
   "metadata": {
    "execution": {
     "iopub.execute_input": "2023-11-16T17:18:16.276912Z",
     "iopub.status.busy": "2023-11-16T17:18:16.275959Z",
     "iopub.status.idle": "2023-11-16T17:18:16.285482Z",
     "shell.execute_reply": "2023-11-16T17:18:16.284232Z"
    },
    "papermill": {
     "duration": 0.04295,
     "end_time": "2023-11-16T17:18:16.289285",
     "exception": false,
     "start_time": "2023-11-16T17:18:16.246335",
     "status": "completed"
    },
    "tags": []
   },
   "outputs": [
    {
     "data": {
      "text/plain": [
       "(231,)"
      ]
     },
     "execution_count": 27,
     "metadata": {},
     "output_type": "execute_result"
    }
   ],
   "source": [
    "y_pred.shape"
   ]
  },
  {
   "cell_type": "code",
   "execution_count": 28,
   "id": "e9a74a34",
   "metadata": {
    "execution": {
     "iopub.execute_input": "2023-11-16T17:18:16.337810Z",
     "iopub.status.busy": "2023-11-16T17:18:16.337001Z",
     "iopub.status.idle": "2023-11-16T17:18:16.345249Z",
     "shell.execute_reply": "2023-11-16T17:18:16.343853Z"
    },
    "papermill": {
     "duration": 0.037328,
     "end_time": "2023-11-16T17:18:16.348542",
     "exception": false,
     "start_time": "2023-11-16T17:18:16.311214",
     "status": "completed"
    },
    "tags": []
   },
   "outputs": [
    {
     "data": {
      "text/plain": [
       "array([0, 0, 0, 0, 0, 0, 1, 0, 0, 0, 0, 1, 0, 0, 0, 0, 1, 0, 0, 0, 0, 0,\n",
       "       0, 0, 0, 1, 0, 0, 0, 1, 0, 1, 0, 0, 0, 0, 0, 0, 0, 0, 1, 1, 0, 1,\n",
       "       1, 1, 1, 0, 0, 1, 0, 0, 0, 0, 1, 1, 0, 0, 0, 0, 0, 1, 0, 1, 0, 0,\n",
       "       1, 0, 1, 0, 0, 1, 0, 1, 0, 0, 0, 1, 0, 0, 0, 0, 0, 0, 1, 0, 0, 0,\n",
       "       0, 0, 0, 1, 0, 0, 0, 0, 0, 0, 0, 0, 1, 0, 0, 0, 0, 1, 1, 0, 0, 1,\n",
       "       0, 0, 0, 1, 0, 0, 0, 0, 1, 0, 1, 0, 0, 0, 0, 1, 0, 1, 1, 0, 0, 0,\n",
       "       0, 0, 0, 0, 0, 0, 1, 0, 0, 0, 0, 0, 0, 1, 1, 0, 1, 1, 0, 0, 0, 0,\n",
       "       0, 0, 0, 0, 1, 0, 0, 1, 0, 1, 0, 0, 1, 0, 1, 0, 0, 0, 0, 0, 1, 0,\n",
       "       0, 0, 1, 0, 0, 0, 1, 1, 1, 0, 0, 0, 0, 0, 0, 0, 0, 0, 0, 0, 1, 1,\n",
       "       0, 0, 0, 0, 1, 0, 0, 0, 0, 0, 0, 0, 0, 0, 0, 1, 0, 1, 1, 0, 0, 1,\n",
       "       1, 0, 0, 0, 0, 0, 0, 0, 1, 0, 0])"
      ]
     },
     "execution_count": 28,
     "metadata": {},
     "output_type": "execute_result"
    }
   ],
   "source": [
    "y_pred"
   ]
  },
  {
   "cell_type": "markdown",
   "id": "656e7e44",
   "metadata": {
    "papermill": {
     "duration": 0.021081,
     "end_time": "2023-11-16T17:18:16.391348",
     "exception": false,
     "start_time": "2023-11-16T17:18:16.370267",
     "status": "completed"
    },
    "tags": []
   },
   "source": [
    "### <span style=\"color:purple;\">**Get Probability of Each Predicted Class**"
   ]
  },
  {
   "cell_type": "code",
   "execution_count": 29,
   "id": "66ad7c00",
   "metadata": {
    "execution": {
     "iopub.execute_input": "2023-11-16T17:18:16.438021Z",
     "iopub.status.busy": "2023-11-16T17:18:16.437064Z",
     "iopub.status.idle": "2023-11-16T17:18:16.454474Z",
     "shell.execute_reply": "2023-11-16T17:18:16.452885Z"
    },
    "papermill": {
     "duration": 0.043425,
     "end_time": "2023-11-16T17:18:16.457381",
     "exception": false,
     "start_time": "2023-11-16T17:18:16.413956",
     "status": "completed"
    },
    "tags": []
   },
   "outputs": [
    {
     "data": {
      "text/plain": [
       "array([[0.71101198, 0.28898802],\n",
       "       [0.80246044, 0.19753956],\n",
       "       [0.50085081, 0.49914919],\n",
       "       [0.8745601 , 0.1254399 ],\n",
       "       [0.84313967, 0.15686033],\n",
       "       [0.72965238, 0.27034762],\n",
       "       [0.32611128, 0.67388872],\n",
       "       [0.82905388, 0.17094612],\n",
       "       [0.57764733, 0.42235267],\n",
       "       [0.5794767 , 0.4205233 ],\n",
       "       [0.90475455, 0.09524545],\n",
       "       [0.42428281, 0.57571719],\n",
       "       [0.81659611, 0.18340389],\n",
       "       [0.86057018, 0.13942982],\n",
       "       [0.55629153, 0.44370847],\n",
       "       [0.83208198, 0.16791802],\n",
       "       [0.40636481, 0.59363519],\n",
       "       [0.8430081 , 0.1569919 ],\n",
       "       [0.6035823 , 0.3964177 ],\n",
       "       [0.51982645, 0.48017355],\n",
       "       [0.65174255, 0.34825745],\n",
       "       [0.89662971, 0.10337029],\n",
       "       [0.88362346, 0.11637654],\n",
       "       [0.50529753, 0.49470247],\n",
       "       [0.74048922, 0.25951078],\n",
       "       [0.38010129, 0.61989871],\n",
       "       [0.86743064, 0.13256936],\n",
       "       [0.63051126, 0.36948874],\n",
       "       [0.54593476, 0.45406524],\n",
       "       [0.16753486, 0.83246514],\n",
       "       [0.62023267, 0.37976733],\n",
       "       [0.45959131, 0.54040869],\n",
       "       [0.75494925, 0.24505075],\n",
       "       [0.71542708, 0.28457292],\n",
       "       [0.75628148, 0.24371852],\n",
       "       [0.77697399, 0.22302601],\n",
       "       [0.67351753, 0.32648247],\n",
       "       [0.79929534, 0.20070466],\n",
       "       [0.74875692, 0.25124308],\n",
       "       [0.54844936, 0.45155064],\n",
       "       [0.32997346, 0.67002654],\n",
       "       [0.22941801, 0.77058199],\n",
       "       [0.7448794 , 0.2551206 ],\n",
       "       [0.34550793, 0.65449207],\n",
       "       [0.18608056, 0.81391944],\n",
       "       [0.26374953, 0.73625047],\n",
       "       [0.26523806, 0.73476194],\n",
       "       [0.62304765, 0.37695235],\n",
       "       [0.68999299, 0.31000701],\n",
       "       [0.45692191, 0.54307809],\n",
       "       [0.62161158, 0.37838842],\n",
       "       [0.79037029, 0.20962971],\n",
       "       [0.89387086, 0.10612914],\n",
       "       [0.73010557, 0.26989443],\n",
       "       [0.2052682 , 0.7947318 ],\n",
       "       [0.39976501, 0.60023499],\n",
       "       [0.83575072, 0.16424928],\n",
       "       [0.71212552, 0.28787448],\n",
       "       [0.63424484, 0.36575516],\n",
       "       [0.77606187, 0.22393813],\n",
       "       [0.87827346, 0.12172654],\n",
       "       [0.16798753, 0.83201247],\n",
       "       [0.70394651, 0.29605349],\n",
       "       [0.31241475, 0.68758525],\n",
       "       [0.82160552, 0.17839448],\n",
       "       [0.78797643, 0.21202357],\n",
       "       [0.42213055, 0.57786945],\n",
       "       [0.73989432, 0.26010568],\n",
       "       [0.45067804, 0.54932196],\n",
       "       [0.57268746, 0.42731254],\n",
       "       [0.64118353, 0.35881647],\n",
       "       [0.49212219, 0.50787781],\n",
       "       [0.79012394, 0.20987606],\n",
       "       [0.16338081, 0.83661919],\n",
       "       [0.86204005, 0.13795995],\n",
       "       [0.82874624, 0.17125376],\n",
       "       [0.90111805, 0.09888195],\n",
       "       [0.42743135, 0.57256865],\n",
       "       [0.85635466, 0.14364534],\n",
       "       [0.72906087, 0.27093913],\n",
       "       [0.90634904, 0.09365096],\n",
       "       [0.98369882, 0.01630118],\n",
       "       [0.82421937, 0.17578063],\n",
       "       [0.6888735 , 0.3111265 ],\n",
       "       [0.17744042, 0.82255958],\n",
       "       [0.7589098 , 0.2410902 ],\n",
       "       [0.61017603, 0.38982397],\n",
       "       [0.61159465, 0.38840535],\n",
       "       [0.68572538, 0.31427462],\n",
       "       [0.69269697, 0.30730303],\n",
       "       [0.6388536 , 0.3611464 ],\n",
       "       [0.47555626, 0.52444374],\n",
       "       [0.65691226, 0.34308774],\n",
       "       [0.80652822, 0.19347178],\n",
       "       [0.69140851, 0.30859149],\n",
       "       [0.61027426, 0.38972574],\n",
       "       [0.72605388, 0.27394612],\n",
       "       [0.9770489 , 0.0229511 ],\n",
       "       [0.89462332, 0.10537668],\n",
       "       [0.78246264, 0.21753736],\n",
       "       [0.43402032, 0.56597968],\n",
       "       [0.83264104, 0.16735896],\n",
       "       [0.63215189, 0.36784811],\n",
       "       [0.67536022, 0.32463978],\n",
       "       [0.89600414, 0.10399586],\n",
       "       [0.13939148, 0.86060852],\n",
       "       [0.27983916, 0.72016084],\n",
       "       [0.57736633, 0.42263367],\n",
       "       [0.66005884, 0.33994116],\n",
       "       [0.30464973, 0.69535027],\n",
       "       [0.82983229, 0.17016771],\n",
       "       [0.58001121, 0.41998879],\n",
       "       [0.83908052, 0.16091948],\n",
       "       [0.40127932, 0.59872068],\n",
       "       [0.78945502, 0.21054498],\n",
       "       [0.76778092, 0.23221908],\n",
       "       [0.54452662, 0.45547338],\n",
       "       [0.60544688, 0.39455312],\n",
       "       [0.44618523, 0.55381477],\n",
       "       [0.66314271, 0.33685729],\n",
       "       [0.34350835, 0.65649165],\n",
       "       [0.59893756, 0.40106244],\n",
       "       [0.62634271, 0.37365729],\n",
       "       [0.77608313, 0.22391687],\n",
       "       [0.72677569, 0.27322431],\n",
       "       [0.43937286, 0.56062714],\n",
       "       [0.54233391, 0.45766609],\n",
       "       [0.25377755, 0.74622245],\n",
       "       [0.45760086, 0.54239914],\n",
       "       [0.76638944, 0.23361056],\n",
       "       [0.83819204, 0.16180796],\n",
       "       [0.61346835, 0.38653165],\n",
       "       [0.90356153, 0.09643847],\n",
       "       [0.7710563 , 0.2289437 ],\n",
       "       [0.87707299, 0.12292701],\n",
       "       [0.65745324, 0.34254676],\n",
       "       [0.68817657, 0.31182343],\n",
       "       [0.80657917, 0.19342083],\n",
       "       [0.35894968, 0.64105032],\n",
       "       [0.68564186, 0.31435814],\n",
       "       [0.59189724, 0.40810276],\n",
       "       [0.51674781, 0.48325219],\n",
       "       [0.81212504, 0.18787496],\n",
       "       [0.67742839, 0.32257161],\n",
       "       [0.86369508, 0.13630492],\n",
       "       [0.33984056, 0.66015944],\n",
       "       [0.4070685 , 0.5929315 ],\n",
       "       [0.82227943, 0.17772057],\n",
       "       [0.44964935, 0.55035065],\n",
       "       [0.38206823, 0.61793177],\n",
       "       [0.71804561, 0.28195439],\n",
       "       [0.70550659, 0.29449341],\n",
       "       [0.79448399, 0.20551601],\n",
       "       [0.85483671, 0.14516329],\n",
       "       [0.82496174, 0.17503826],\n",
       "       [0.67704275, 0.32295725],\n",
       "       [0.77732205, 0.22267795],\n",
       "       [0.7360905 , 0.2639095 ],\n",
       "       [0.32375744, 0.67624256],\n",
       "       [0.85116323, 0.14883677],\n",
       "       [0.72815553, 0.27184447],\n",
       "       [0.21054529, 0.78945471],\n",
       "       [0.87112955, 0.12887045],\n",
       "       [0.44318092, 0.55681908],\n",
       "       [0.69806954, 0.30193046],\n",
       "       [0.52312157, 0.47687843],\n",
       "       [0.30924146, 0.69075854],\n",
       "       [0.80715878, 0.19284122],\n",
       "       [0.44392423, 0.55607577],\n",
       "       [0.94261157, 0.05738843],\n",
       "       [0.59928428, 0.40071572],\n",
       "       [0.87563746, 0.12436254],\n",
       "       [0.58419607, 0.41580393],\n",
       "       [0.52821088, 0.47178912],\n",
       "       [0.40153771, 0.59846229],\n",
       "       [0.64992152, 0.35007848],\n",
       "       [0.63185221, 0.36814779],\n",
       "       [0.93554367, 0.06445633],\n",
       "       [0.31681777, 0.68318223],\n",
       "       [0.54968842, 0.45031158],\n",
       "       [0.80598623, 0.19401377],\n",
       "       [0.77826867, 0.22173133],\n",
       "       [0.49958936, 0.50041064],\n",
       "       [0.19034282, 0.80965718],\n",
       "       [0.26781888, 0.73218112],\n",
       "       [0.57488252, 0.42511748],\n",
       "       [0.81074537, 0.18925463],\n",
       "       [0.76494237, 0.23505763],\n",
       "       [0.64189875, 0.35810125],\n",
       "       [0.80876086, 0.19123914],\n",
       "       [0.79446906, 0.20553094],\n",
       "       [0.83421376, 0.16578624],\n",
       "       [0.78869817, 0.21130183],\n",
       "       [0.87464945, 0.12535055],\n",
       "       [0.86368861, 0.13631139],\n",
       "       [0.76845696, 0.23154304],\n",
       "       [0.12908971, 0.87091029],\n",
       "       [0.49597443, 0.50402557],\n",
       "       [0.74991355, 0.25008645],\n",
       "       [0.77513673, 0.22486327],\n",
       "       [0.88357496, 0.11642504],\n",
       "       [0.83739596, 0.16260404],\n",
       "       [0.25695317, 0.74304683],\n",
       "       [0.57208324, 0.42791676],\n",
       "       [0.6407614 , 0.3592386 ],\n",
       "       [0.79016699, 0.20983301],\n",
       "       [0.70325927, 0.29674073],\n",
       "       [0.86981183, 0.13018817],\n",
       "       [0.77606671, 0.22393329],\n",
       "       [0.82007573, 0.17992427],\n",
       "       [0.79975104, 0.20024896],\n",
       "       [0.62766827, 0.37233173],\n",
       "       [0.51468356, 0.48531644],\n",
       "       [0.35427703, 0.64572297],\n",
       "       [0.76513826, 0.23486174],\n",
       "       [0.47215038, 0.52784962],\n",
       "       [0.32587725, 0.67412275],\n",
       "       [0.53598641, 0.46401359],\n",
       "       [0.74870476, 0.25129524],\n",
       "       [0.22461514, 0.77538486],\n",
       "       [0.1603111 , 0.8396889 ],\n",
       "       [0.64150356, 0.35849644],\n",
       "       [0.61681536, 0.38318464],\n",
       "       [0.74800921, 0.25199079],\n",
       "       [0.69366962, 0.30633038],\n",
       "       [0.67352852, 0.32647148],\n",
       "       [0.75764762, 0.24235238],\n",
       "       [0.89764562, 0.10235438],\n",
       "       [0.41733016, 0.58266984],\n",
       "       [0.67419914, 0.32580086],\n",
       "       [0.78132855, 0.21867145]])"
      ]
     },
     "execution_count": 29,
     "metadata": {},
     "output_type": "execute_result"
    }
   ],
   "source": [
    "lr.predict_proba(x_test)"
   ]
  },
  {
   "cell_type": "markdown",
   "id": "a293e784",
   "metadata": {
    "papermill": {
     "duration": 0.021409,
     "end_time": "2023-11-16T17:18:16.500635",
     "exception": false,
     "start_time": "2023-11-16T17:18:16.479226",
     "status": "completed"
    },
    "tags": []
   },
   "source": [
    "### <span style=\"color:purple;\">**Get Model Evaluation**"
   ]
  },
  {
   "cell_type": "code",
   "execution_count": 30,
   "id": "a1b98be4",
   "metadata": {
    "execution": {
     "iopub.execute_input": "2023-11-16T17:18:16.552033Z",
     "iopub.status.busy": "2023-11-16T17:18:16.550934Z",
     "iopub.status.idle": "2023-11-16T17:18:16.556678Z",
     "shell.execute_reply": "2023-11-16T17:18:16.555682Z"
    },
    "papermill": {
     "duration": 0.037204,
     "end_time": "2023-11-16T17:18:16.559198",
     "exception": false,
     "start_time": "2023-11-16T17:18:16.521994",
     "status": "completed"
    },
    "tags": []
   },
   "outputs": [],
   "source": [
    "from sklearn.metrics import confusion_matrix, classification_report"
   ]
  },
  {
   "cell_type": "code",
   "execution_count": 31,
   "id": "2db3f7fd",
   "metadata": {
    "execution": {
     "iopub.execute_input": "2023-11-16T17:18:16.606169Z",
     "iopub.status.busy": "2023-11-16T17:18:16.605570Z",
     "iopub.status.idle": "2023-11-16T17:18:16.618610Z",
     "shell.execute_reply": "2023-11-16T17:18:16.616945Z"
    },
    "papermill": {
     "duration": 0.039305,
     "end_time": "2023-11-16T17:18:16.621094",
     "exception": false,
     "start_time": "2023-11-16T17:18:16.581789",
     "status": "completed"
    },
    "tags": []
   },
   "outputs": [
    {
     "name": "stdout",
     "output_type": "stream",
     "text": [
      "[[136  14]\n",
      " [ 37  44]]\n"
     ]
    }
   ],
   "source": [
    "print(confusion_matrix(y_test,y_pred))"
   ]
  },
  {
   "cell_type": "code",
   "execution_count": 32,
   "id": "caa41271",
   "metadata": {
    "execution": {
     "iopub.execute_input": "2023-11-16T17:18:16.666360Z",
     "iopub.status.busy": "2023-11-16T17:18:16.665932Z",
     "iopub.status.idle": "2023-11-16T17:18:16.681529Z",
     "shell.execute_reply": "2023-11-16T17:18:16.679597Z"
    },
    "papermill": {
     "duration": 0.041353,
     "end_time": "2023-11-16T17:18:16.684201",
     "exception": false,
     "start_time": "2023-11-16T17:18:16.642848",
     "status": "completed"
    },
    "tags": []
   },
   "outputs": [
    {
     "name": "stdout",
     "output_type": "stream",
     "text": [
      "              precision    recall  f1-score   support\n",
      "\n",
      "           0       0.79      0.91      0.84       150\n",
      "           1       0.76      0.54      0.63        81\n",
      "\n",
      "    accuracy                           0.78       231\n",
      "   macro avg       0.77      0.72      0.74       231\n",
      "weighted avg       0.78      0.78      0.77       231\n",
      "\n"
     ]
    }
   ],
   "source": [
    "print(classification_report(y_test,y_pred))"
   ]
  },
  {
   "cell_type": "markdown",
   "id": "caa2c3ae",
   "metadata": {
    "papermill": {
     "duration": 0.021072,
     "end_time": "2023-11-16T17:18:16.727328",
     "exception": false,
     "start_time": "2023-11-16T17:18:16.706256",
     "status": "completed"
    },
    "tags": []
   },
   "source": [
    "### <span style=\"color:purple;\">**Get Future Predictions**\n",
    "    \n",
    "#### Lets select a random sample from existing dataset as new value or patient\n",
    "    \n",
    "##### Steps to follow\n",
    "##### 1. Extract a random row using sample function\n",
    "##### 2. Seperate X and Y\n",
    "##### 3. Standardize X\n",
    "##### 4. Predict    "
   ]
  },
  {
   "cell_type": "code",
   "execution_count": 33,
   "id": "d5fc1890",
   "metadata": {
    "execution": {
     "iopub.execute_input": "2023-11-16T17:18:16.773720Z",
     "iopub.status.busy": "2023-11-16T17:18:16.772239Z",
     "iopub.status.idle": "2023-11-16T17:18:16.786745Z",
     "shell.execute_reply": "2023-11-16T17:18:16.785489Z"
    },
    "papermill": {
     "duration": 0.040059,
     "end_time": "2023-11-16T17:18:16.789347",
     "exception": false,
     "start_time": "2023-11-16T17:18:16.749288",
     "status": "completed"
    },
    "tags": []
   },
   "outputs": [
    {
     "data": {
      "text/html": [
       "<div>\n",
       "<style scoped>\n",
       "    .dataframe tbody tr th:only-of-type {\n",
       "        vertical-align: middle;\n",
       "    }\n",
       "\n",
       "    .dataframe tbody tr th {\n",
       "        vertical-align: top;\n",
       "    }\n",
       "\n",
       "    .dataframe thead th {\n",
       "        text-align: right;\n",
       "    }\n",
       "</style>\n",
       "<table border=\"1\" class=\"dataframe\">\n",
       "  <thead>\n",
       "    <tr style=\"text-align: right;\">\n",
       "      <th></th>\n",
       "      <th>pregnancies</th>\n",
       "      <th>glucose</th>\n",
       "      <th>diastolic</th>\n",
       "      <th>triceps</th>\n",
       "      <th>insulin</th>\n",
       "      <th>bmi</th>\n",
       "      <th>dpf</th>\n",
       "      <th>age</th>\n",
       "      <th>diabetes</th>\n",
       "    </tr>\n",
       "  </thead>\n",
       "  <tbody>\n",
       "    <tr>\n",
       "      <th>760</th>\n",
       "      <td>2</td>\n",
       "      <td>88</td>\n",
       "      <td>58</td>\n",
       "      <td>26</td>\n",
       "      <td>16</td>\n",
       "      <td>28.4</td>\n",
       "      <td>0.766</td>\n",
       "      <td>22</td>\n",
       "      <td>0</td>\n",
       "    </tr>\n",
       "  </tbody>\n",
       "</table>\n",
       "</div>"
      ],
      "text/plain": [
       "     pregnancies  glucose  diastolic  triceps  insulin   bmi    dpf  age  \\\n",
       "760            2       88         58       26       16  28.4  0.766   22   \n",
       "\n",
       "     diabetes  \n",
       "760         0  "
      ]
     },
     "execution_count": 33,
     "metadata": {},
     "output_type": "execute_result"
    }
   ],
   "source": [
    "x_new = df.sample(1)\n",
    "x_new"
   ]
  },
  {
   "cell_type": "code",
   "execution_count": 34,
   "id": "6427db12",
   "metadata": {
    "execution": {
     "iopub.execute_input": "2023-11-16T17:18:16.835480Z",
     "iopub.status.busy": "2023-11-16T17:18:16.835030Z",
     "iopub.status.idle": "2023-11-16T17:18:16.841835Z",
     "shell.execute_reply": "2023-11-16T17:18:16.841038Z"
    },
    "papermill": {
     "duration": 0.032383,
     "end_time": "2023-11-16T17:18:16.844089",
     "exception": false,
     "start_time": "2023-11-16T17:18:16.811706",
     "status": "completed"
    },
    "tags": []
   },
   "outputs": [
    {
     "data": {
      "text/plain": [
       "(1, 9)"
      ]
     },
     "execution_count": 34,
     "metadata": {},
     "output_type": "execute_result"
    }
   ],
   "source": [
    "x_new.shape"
   ]
  },
  {
   "cell_type": "code",
   "execution_count": 35,
   "id": "d4d7e27f",
   "metadata": {
    "execution": {
     "iopub.execute_input": "2023-11-16T17:18:16.891172Z",
     "iopub.status.busy": "2023-11-16T17:18:16.889747Z",
     "iopub.status.idle": "2023-11-16T17:18:16.905369Z",
     "shell.execute_reply": "2023-11-16T17:18:16.904143Z"
    },
    "papermill": {
     "duration": 0.042224,
     "end_time": "2023-11-16T17:18:16.908363",
     "exception": false,
     "start_time": "2023-11-16T17:18:16.866139",
     "status": "completed"
    },
    "tags": []
   },
   "outputs": [
    {
     "data": {
      "text/html": [
       "<div>\n",
       "<style scoped>\n",
       "    .dataframe tbody tr th:only-of-type {\n",
       "        vertical-align: middle;\n",
       "    }\n",
       "\n",
       "    .dataframe tbody tr th {\n",
       "        vertical-align: top;\n",
       "    }\n",
       "\n",
       "    .dataframe thead th {\n",
       "        text-align: right;\n",
       "    }\n",
       "</style>\n",
       "<table border=\"1\" class=\"dataframe\">\n",
       "  <thead>\n",
       "    <tr style=\"text-align: right;\">\n",
       "      <th></th>\n",
       "      <th>pregnancies</th>\n",
       "      <th>glucose</th>\n",
       "      <th>diastolic</th>\n",
       "      <th>triceps</th>\n",
       "      <th>insulin</th>\n",
       "      <th>bmi</th>\n",
       "      <th>dpf</th>\n",
       "      <th>age</th>\n",
       "    </tr>\n",
       "  </thead>\n",
       "  <tbody>\n",
       "    <tr>\n",
       "      <th>760</th>\n",
       "      <td>2</td>\n",
       "      <td>88</td>\n",
       "      <td>58</td>\n",
       "      <td>26</td>\n",
       "      <td>16</td>\n",
       "      <td>28.4</td>\n",
       "      <td>0.766</td>\n",
       "      <td>22</td>\n",
       "    </tr>\n",
       "  </tbody>\n",
       "</table>\n",
       "</div>"
      ],
      "text/plain": [
       "     pregnancies  glucose  diastolic  triceps  insulin   bmi    dpf  age\n",
       "760            2       88         58       26       16  28.4  0.766   22"
      ]
     },
     "execution_count": 35,
     "metadata": {},
     "output_type": "execute_result"
    }
   ],
   "source": [
    "x_new= x_new.drop('diabetes', axis =1)\n",
    "x_new"
   ]
  },
  {
   "cell_type": "code",
   "execution_count": 36,
   "id": "3d4af627",
   "metadata": {
    "execution": {
     "iopub.execute_input": "2023-11-16T17:18:16.955562Z",
     "iopub.status.busy": "2023-11-16T17:18:16.954671Z",
     "iopub.status.idle": "2023-11-16T17:18:16.962379Z",
     "shell.execute_reply": "2023-11-16T17:18:16.961034Z"
    },
    "papermill": {
     "duration": 0.034401,
     "end_time": "2023-11-16T17:18:16.965065",
     "exception": false,
     "start_time": "2023-11-16T17:18:16.930664",
     "status": "completed"
    },
    "tags": []
   },
   "outputs": [
    {
     "data": {
      "text/plain": [
       "(1, 8)"
      ]
     },
     "execution_count": 36,
     "metadata": {},
     "output_type": "execute_result"
    }
   ],
   "source": [
    "x_new.shape"
   ]
  },
  {
   "cell_type": "code",
   "execution_count": 37,
   "id": "93e6ab82",
   "metadata": {
    "execution": {
     "iopub.execute_input": "2023-11-16T17:18:17.015515Z",
     "iopub.status.busy": "2023-11-16T17:18:17.014673Z",
     "iopub.status.idle": "2023-11-16T17:18:17.024112Z",
     "shell.execute_reply": "2023-11-16T17:18:17.023255Z"
    },
    "papermill": {
     "duration": 0.038351,
     "end_time": "2023-11-16T17:18:17.026548",
     "exception": false,
     "start_time": "2023-11-16T17:18:16.988197",
     "status": "completed"
    },
    "tags": []
   },
   "outputs": [],
   "source": [
    "x_new= mm.fit_transform(x_new)"
   ]
  },
  {
   "cell_type": "code",
   "execution_count": 38,
   "id": "8fde63b7",
   "metadata": {
    "execution": {
     "iopub.execute_input": "2023-11-16T17:18:17.074985Z",
     "iopub.status.busy": "2023-11-16T17:18:17.074047Z",
     "iopub.status.idle": "2023-11-16T17:18:17.080188Z",
     "shell.execute_reply": "2023-11-16T17:18:17.079005Z"
    },
    "papermill": {
     "duration": 0.032797,
     "end_time": "2023-11-16T17:18:17.082919",
     "exception": false,
     "start_time": "2023-11-16T17:18:17.050122",
     "status": "completed"
    },
    "tags": []
   },
   "outputs": [],
   "source": [
    "y_pred_new = lr.predict(x_new)"
   ]
  },
  {
   "cell_type": "code",
   "execution_count": 39,
   "id": "4276b863",
   "metadata": {
    "execution": {
     "iopub.execute_input": "2023-11-16T17:18:17.129231Z",
     "iopub.status.busy": "2023-11-16T17:18:17.128734Z",
     "iopub.status.idle": "2023-11-16T17:18:17.135941Z",
     "shell.execute_reply": "2023-11-16T17:18:17.135008Z"
    },
    "papermill": {
     "duration": 0.033032,
     "end_time": "2023-11-16T17:18:17.138240",
     "exception": false,
     "start_time": "2023-11-16T17:18:17.105208",
     "status": "completed"
    },
    "tags": []
   },
   "outputs": [
    {
     "data": {
      "text/plain": [
       "array([0])"
      ]
     },
     "execution_count": 39,
     "metadata": {},
     "output_type": "execute_result"
    }
   ],
   "source": [
    "y_pred_new"
   ]
  },
  {
   "cell_type": "code",
   "execution_count": 40,
   "id": "be48fa72",
   "metadata": {
    "execution": {
     "iopub.execute_input": "2023-11-16T17:18:17.185159Z",
     "iopub.status.busy": "2023-11-16T17:18:17.184640Z",
     "iopub.status.idle": "2023-11-16T17:18:17.193856Z",
     "shell.execute_reply": "2023-11-16T17:18:17.192551Z"
    },
    "papermill": {
     "duration": 0.035392,
     "end_time": "2023-11-16T17:18:17.196078",
     "exception": false,
     "start_time": "2023-11-16T17:18:17.160686",
     "status": "completed"
    },
    "tags": []
   },
   "outputs": [
    {
     "data": {
      "text/plain": [
       "array([[0.99508059, 0.00491941]])"
      ]
     },
     "execution_count": 40,
     "metadata": {},
     "output_type": "execute_result"
    }
   ],
   "source": [
    "lr.predict_proba(x_new)"
   ]
  },
  {
   "cell_type": "markdown",
   "id": "05857ead",
   "metadata": {
    "papermill": {
     "duration": 0.023357,
     "end_time": "2023-11-16T17:18:17.242735",
     "exception": false,
     "start_time": "2023-11-16T17:18:17.219378",
     "status": "completed"
    },
    "tags": []
   },
   "source": [
    "### **Predicted and Actual Class is Zero (0) that is Non-Diabetic**"
   ]
  }
 ],
 "metadata": {
  "kaggle": {
   "accelerator": "none",
   "dataSources": [
    {
     "datasetId": 3853339,
     "sourceId": 6679486,
     "sourceType": "datasetVersion"
    }
   ],
   "dockerImageVersionId": 30587,
   "isGpuEnabled": false,
   "isInternetEnabled": true,
   "language": "python",
   "sourceType": "notebook"
  },
  "kernelspec": {
   "display_name": "Python 3",
   "language": "python",
   "name": "python3"
  },
  "language_info": {
   "codemirror_mode": {
    "name": "ipython",
    "version": 3
   },
   "file_extension": ".py",
   "mimetype": "text/x-python",
   "name": "python",
   "nbconvert_exporter": "python",
   "pygments_lexer": "ipython3",
   "version": "3.10.12"
  },
  "papermill": {
   "default_parameters": {},
   "duration": 10.418156,
   "end_time": "2023-11-16T17:18:17.990389",
   "environment_variables": {},
   "exception": null,
   "input_path": "__notebook__.ipynb",
   "output_path": "__notebook__.ipynb",
   "parameters": {},
   "start_time": "2023-11-16T17:18:07.572233",
   "version": "2.4.0"
  }
 },
 "nbformat": 4,
 "nbformat_minor": 5
}
